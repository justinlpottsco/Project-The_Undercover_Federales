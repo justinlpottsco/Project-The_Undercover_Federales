{
 "cells": [
  {
   "cell_type": "code",
   "execution_count": 3,
   "metadata": {},
   "outputs": [],
   "source": [
    "import numpy as np\n",
    "import pandas as pd\n"
   ]
  },
  {
   "cell_type": "code",
   "execution_count": 4,
   "metadata": {},
   "outputs": [
    {
     "data": {
      "text/html": [
       "<div>\n",
       "<style scoped>\n",
       "    .dataframe tbody tr th:only-of-type {\n",
       "        vertical-align: middle;\n",
       "    }\n",
       "\n",
       "    .dataframe tbody tr th {\n",
       "        vertical-align: top;\n",
       "    }\n",
       "\n",
       "    .dataframe thead th {\n",
       "        text-align: right;\n",
       "    }\n",
       "</style>\n",
       "<table border=\"1\" class=\"dataframe\">\n",
       "  <thead>\n",
       "    <tr style=\"text-align: right;\">\n",
       "      <th></th>\n",
       "      <th>City</th>\n",
       "      <th>lat</th>\n",
       "      <th>temp</th>\n",
       "      <th>sunrise</th>\n",
       "      <th>sunset</th>\n",
       "      <th>solar_rad</th>\n",
       "      <th>day_length</th>\n",
       "    </tr>\n",
       "  </thead>\n",
       "  <tbody>\n",
       "    <tr>\n",
       "      <th>0</th>\n",
       "      <td>oiso</td>\n",
       "      <td>35.31558</td>\n",
       "      <td>18.3</td>\n",
       "      <td>2020-10-27 20:59:00</td>\n",
       "      <td>2020-10-27 07:52:00</td>\n",
       "      <td>411.5</td>\n",
       "      <td>653.0</td>\n",
       "    </tr>\n",
       "    <tr>\n",
       "      <th>1</th>\n",
       "      <td>mahebourg</td>\n",
       "      <td>-20.40806</td>\n",
       "      <td>21.1</td>\n",
       "      <td>2020-10-27 01:30:00</td>\n",
       "      <td>2020-10-27 14:16:00</td>\n",
       "      <td>66.6</td>\n",
       "      <td>766.0</td>\n",
       "    </tr>\n",
       "    <tr>\n",
       "      <th>2</th>\n",
       "      <td>khormuj</td>\n",
       "      <td>28.65430</td>\n",
       "      <td>6.0</td>\n",
       "      <td>2020-10-27 02:39:00</td>\n",
       "      <td>2020-10-27 13:47:00</td>\n",
       "      <td>0.0</td>\n",
       "      <td>668.0</td>\n",
       "    </tr>\n",
       "    <tr>\n",
       "      <th>3</th>\n",
       "      <td>palmer</td>\n",
       "      <td>10.74055</td>\n",
       "      <td>28.0</td>\n",
       "      <td>2020-10-27 10:49:00</td>\n",
       "      <td>2020-10-27 22:36:00</td>\n",
       "      <td>0.0</td>\n",
       "      <td>707.0</td>\n",
       "    </tr>\n",
       "    <tr>\n",
       "      <th>4</th>\n",
       "      <td>pokhara</td>\n",
       "      <td>28.26689</td>\n",
       "      <td>23.9</td>\n",
       "      <td>2020-10-27 00:25:00</td>\n",
       "      <td>2020-10-27 11:42:00</td>\n",
       "      <td>259.5</td>\n",
       "      <td>677.0</td>\n",
       "    </tr>\n",
       "  </tbody>\n",
       "</table>\n",
       "</div>"
      ],
      "text/plain": [
       "        City       lat  temp              sunrise               sunset  \\\n",
       "0       oiso  35.31558  18.3  2020-10-27 20:59:00  2020-10-27 07:52:00   \n",
       "1  mahebourg -20.40806  21.1  2020-10-27 01:30:00  2020-10-27 14:16:00   \n",
       "2    khormuj  28.65430   6.0  2020-10-27 02:39:00  2020-10-27 13:47:00   \n",
       "3     palmer  10.74055  28.0  2020-10-27 10:49:00  2020-10-27 22:36:00   \n",
       "4    pokhara  28.26689  23.9  2020-10-27 00:25:00  2020-10-27 11:42:00   \n",
       "\n",
       "   solar_rad  day_length  \n",
       "0      411.5       653.0  \n",
       "1       66.6       766.0  \n",
       "2        0.0       668.0  \n",
       "3        0.0       707.0  \n",
       "4      259.5       677.0  "
      ]
     },
     "execution_count": 4,
     "metadata": {},
     "output_type": "execute_result"
    }
   ],
   "source": [
    "#file to load\n",
    "\n",
    "city=\"cities.csv\"\n",
    "\n",
    "#read file and store into Pandas\n",
    "city_data=pd.read_csv(city)\n",
    "city_data.head()"
   ]
  }
 ],
 "metadata": {
  "kernelspec": {
   "display_name": "Python [conda env:PythonData] *",
   "language": "python",
   "name": "conda-env-PythonData-py"
  },
  "language_info": {
   "codemirror_mode": {
    "name": "ipython",
    "version": 3
   },
   "file_extension": ".py",
   "mimetype": "text/x-python",
   "name": "python",
   "nbconvert_exporter": "python",
   "pygments_lexer": "ipython3",
   "version": "3.7.1"
  }
 },
 "nbformat": 4,
 "nbformat_minor": 4
}
